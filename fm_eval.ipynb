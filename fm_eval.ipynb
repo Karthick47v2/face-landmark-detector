{
  "nbformat": 4,
  "nbformat_minor": 0,
  "metadata": {
    "colab": {
      "name": "fm_eval.ipynb",
      "provenance": [],
      "authorship_tag": "ABX9TyPkGZhwnXrzl0AKBWrQBemU",
      "include_colab_link": true
    },
    "kernelspec": {
      "name": "python3",
      "display_name": "Python 3"
    },
    "language_info": {
      "name": "python"
    }
  },
  "cells": [
    {
      "cell_type": "markdown",
      "metadata": {
        "id": "view-in-github",
        "colab_type": "text"
      },
      "source": [
        "<a href=\"https://colab.research.google.com/github/Karthick47v2/mock-buddy/blob/base-dev/fm_eval.ipynb\" target=\"_parent\"><img src=\"https://colab.research.google.com/assets/colab-badge.svg\" alt=\"Open In Colab\"/></a>"
      ]
    },
    {
      "cell_type": "code",
      "execution_count": 1,
      "metadata": {
        "id": "S_7CDbOLyrWJ"
      },
      "outputs": [],
      "source": [
        "import numpy as np\n",
        "import pandas as pd\n",
        "import matplotlib.pyplot as plt\n",
        "from  sklearn.model_selection import train_test_split\n",
        "import tensorflow\n",
        "from tensorflow import keras"
      ]
    },
    {
      "cell_type": "code",
      "source": [
        "!pip install gdown\n",
        "!gdown --id 1zzFEcoJEdooFJ_AkltEKCsOyg8qrRqiz\n",
        "!unzip 300w_f_96.zip"
      ],
      "metadata": {
        "id": "jnbxLi09y9j-"
      },
      "execution_count": null,
      "outputs": []
    },
    {
      "cell_type": "code",
      "source": [
        "from google.colab import drive\n",
        "drive.mount('/content/gdrive')"
      ],
      "metadata": {
        "colab": {
          "base_uri": "https://localhost:8080/"
        },
        "id": "EZgMstFM0Ow_",
        "outputId": "d20a348c-f7e7-4c7e-8130-7e5802a1bbca"
      },
      "execution_count": 4,
      "outputs": [
        {
          "output_type": "stream",
          "name": "stdout",
          "text": [
            "Mounted at /content/gdrive\n"
          ]
        }
      ]
    },
    {
      "cell_type": "code",
      "source": [
        "model = keras.models.load_model('gdrive/MyDrive/conv_model')"
      ],
      "metadata": {
        "id": "Bsy55lfE0Sl9"
      },
      "execution_count": 5,
      "outputs": []
    },
    {
      "cell_type": "code",
      "source": [
        "import cv2\n",
        "test_df = pd.read_csv('test_ibug.csv')\n",
        "\n",
        "# helen_test_df, lfpw_test_df = pd.read_csv('test_helen.csv'), pd.read_csv('test_lfpw.csv')\n",
        "# test_df = pd.concat([helen_test_df, lfpw_test_df], axis=0)\n",
        "\n",
        "image = [cv2.imread('./' + row.iloc[0], flags=cv2.IMREAD_GRAYSCALE).reshape(96,96,1) for idx, row in test_df.iterrows()]\n",
        "\n",
        "y_hat = []\n",
        "for img in image:\n",
        "    y_hat.append(model.predict(np.expand_dims(img,0)))\n",
        "\n",
        "# plt.imshow(image)\n",
        "# plt.scatter(y_hat[0][0:136:2] ,y_hat[0][1:136:2], s=3, c='r')"
      ],
      "metadata": {
        "id": "307DVwAgzFX0"
      },
      "execution_count": 9,
      "outputs": []
    },
    {
      "cell_type": "code",
      "source": [
        "val = 0\n",
        "result = []\n",
        "i = 0\n",
        "for idx, row in test_df.iterrows():\n",
        "    y_true, y_pred = row.iloc[1:137].values.reshape(68,2), y_hat[i].reshape(68,2)\n",
        "    i += 1\n",
        "    iod = np.linalg.norm(y_true[36]-y_true[45])\n",
        "#     iod = np.sum(np.power((y_true[36]-y_true[45]),2))\n",
        "    m = 0  \n",
        "    for j in range(68):\n",
        "        m = m + np.linalg.norm(y_pred[j]-y_true[j])\n",
        "#     print(np.linalg.norm(y_pred-y_true))\n",
        "    result.append(m / (68 * iod))\n",
        "#     val += np.sum(np.power((y_true-y_pred),2)) / (iod * 68)\n",
        "\n",
        "# result = sum(result)/len(y_hat)"
      ],
      "metadata": {
        "id": "hylMWx3UzRkb"
      },
      "execution_count": 10,
      "outputs": []
    },
    {
      "cell_type": "code",
      "source": [
        "print('iBUG') # 14\n",
        "print (f\"Cumalative: {sum(result)}\")\n",
        "print(f\"Avg: {sum(result)/len(y_hat)}\")"
      ],
      "metadata": {
        "colab": {
          "base_uri": "https://localhost:8080/"
        },
        "id": "8ooMDARqzSRd",
        "outputId": "9da4c846-3ede-4fc1-9a65-6c730b62af35"
      },
      "execution_count": 11,
      "outputs": [
        {
          "output_type": "stream",
          "name": "stdout",
          "text": [
            "iBUG\n",
            "Cumalative: 8.629754340039376\n",
            "Avg: 0.0639241062225139\n"
          ]
        }
      ]
    },
    {
      "cell_type": "code",
      "source": [
        "print('Others')  # 25\n",
        "print (f\"Cumalative: {sum(result)}\")\n",
        "print(f\"Avg: {sum(result)/len(y_hat)}\")"
      ],
      "metadata": {
        "colab": {
          "base_uri": "https://localhost:8080/"
        },
        "id": "KlHDNpwxzVoe",
        "outputId": "f4fe5ee2-c23a-4f6e-e19a-38c49aba5653"
      },
      "execution_count": 8,
      "outputs": [
        {
          "output_type": "stream",
          "name": "stdout",
          "text": [
            "Others\n",
            "Cumalative: 13.2873543908195\n",
            "Avg: 0.023984394207255417\n"
          ]
        }
      ]
    },
    {
      "cell_type": "code",
      "source": [
        ""
      ],
      "metadata": {
        "id": "MaJAAAF40vMP"
      },
      "execution_count": null,
      "outputs": []
    }
  ]
}