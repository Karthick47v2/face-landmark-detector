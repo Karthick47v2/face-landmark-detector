{
  "cells": [
    {
      "cell_type": "markdown",
      "metadata": {
        "id": "view-in-github",
        "colab_type": "text"
      },
      "source": [
        "<a href=\"https://colab.research.google.com/github/Karthick47v2/mock-buddy/blob/base-dev/300w.ipynb\" target=\"_parent\"><img src=\"https://colab.research.google.com/assets/colab-badge.svg\" alt=\"Open In Colab\"/></a>"
      ]
    },
    {
      "cell_type": "markdown",
      "source": [
        "## Import libs"
      ],
      "metadata": {
        "id": "nskvlHbdHMm_"
      }
    },
    {
      "cell_type": "code",
      "execution_count": 1,
      "metadata": {
        "id": "CK_DR5pYp7xD"
      },
      "outputs": [],
      "source": [
        "import glob\n",
        "import pandas as pd\n",
        "import numpy as np\n",
        "import scipy.io\n",
        "import cv2\n",
        "import matplotlib.pyplot as plt\n",
        "from itertools import chain\n",
        "import os\n",
        "import imgaug.augmenters as iaa\n",
        "from imgaug.augmentables import Keypoint, KeypointsOnImage"
      ]
    },
    {
      "cell_type": "markdown",
      "source": [
        "## Connect to GDrive"
      ],
      "metadata": {
        "id": "8Hln_u9UHS04"
      }
    },
    {
      "cell_type": "code",
      "execution_count": null,
      "metadata": {
        "id": "KTqY1uQEniTC"
      },
      "outputs": [],
      "source": [
        "from google.colab import drive\n",
        "drive.mount('/content/gdrive')"
      ]
    },
    {
      "cell_type": "markdown",
      "source": [
        "## Extract dataset"
      ],
      "metadata": {
        "id": "LexGBeWXHXBt"
      }
    },
    {
      "cell_type": "code",
      "execution_count": null,
      "metadata": {
        "id": "E_UO9TMFnuNY"
      },
      "outputs": [],
      "source": [
        "# afw\n",
        "!mkdir afw\n",
        "!unzip /content/gdrive/MyDrive/300w/afw.zip -d afw/\n",
        "\n",
        "# # ibug\n",
        "!mkdir ibug\n",
        "!unzip /content/gdrive/MyDrive/300w/ibug.zip -d ibug/\n",
        "\n",
        "# # helen\n",
        "!mkdir helen\n",
        "!unzip /content/gdrive/MyDrive/300w/helen.zip -d helen/\n",
        "\n",
        "# # lfpw\n",
        "!mkdir lfpw\n",
        "!unzip /content/gdrive/MyDrive/300w/lfpw.zip -d lfpw/\n",
        "\n",
        "# bounding box region\n",
        "!mkdir bb\n",
        "!unzip /content/gdrive/MyDrive/300w/bounding_boxes.zip -d bb/"
      ]
    },
    {
      "cell_type": "markdown",
      "source": [
        "## Read data"
      ],
      "metadata": {
        "id": "5vhpMXyyHliq"
      }
    },
    {
      "cell_type": "code",
      "execution_count": 4,
      "metadata": {
        "id": "Gb9g1w2qvCun"
      },
      "outputs": [],
      "source": [
        "def read_mat(filename):\n",
        "  mat = scipy.io.loadmat(f\"bb/Bounding Boxes/{filename}.mat\")\n",
        "  if filename == 'bounding_boxes_ibug':\n",
        "    return mat['bounding_boxes'][0][0:135]\n",
        "  return mat['bounding_boxes'][0]\n",
        "\n",
        "def read_pts(filepath):\n",
        "  return np.loadtxt(filepath, comments=(\"version:\", \"n_points:\", \"{\", \"}\"))\n",
        "\n",
        "def get_lm(dataset, img_name):\n",
        "  return list(map(lambda x: read_pts(f\"{dataset}/{x.split('.')[0]}.pts\"), img_name))\n",
        "\n",
        "def mat_to_pd(filename, dataset):\n",
        "  mat = read_mat(filename)\n",
        "  path, name, bb = zip(*[(f\"/content/{dataset}/{x['imgName'][0][0][0]}\", x['imgName'][0][0][0], \n",
        "                          x['bb_ground_truth'][0][0][0]) for x in mat])\n",
        "\n",
        "  return pd.DataFrame({'path': path, 'name': name, 'bb': bb, 'lm': get_lm(dataset, name)})\n",
        "\n",
        "afw_pd = mat_to_pd('bounding_boxes_afw', 'afw')\n",
        "ibug_pd = mat_to_pd('bounding_boxes_ibug', 'ibug')\n",
        "helen_train_pd = mat_to_pd('bounding_boxes_helen_trainset', 'helen/trainset')\n",
        "helen_test_pd = mat_to_pd('bounding_boxes_helen_testset', 'helen/testset')\n",
        "lfpw_train_pd = mat_to_pd('bounding_boxes_lfpw_trainset', 'lfpw/trainset')\n",
        "lfpw_test_pd = mat_to_pd('bounding_boxes_lfpw_testset', 'lfpw/testset')"
      ]
    },
    {
      "cell_type": "code",
      "execution_count": null,
      "metadata": {
        "id": "3ydA8kNx36xC"
      },
      "outputs": [],
      "source": [
        "afw_pd"
      ]
    },
    {
      "cell_type": "code",
      "execution_count": null,
      "metadata": {
        "id": "6kTmOdEpa23c"
      },
      "outputs": [],
      "source": [
        "ibug_pd"
      ]
    },
    {
      "cell_type": "code",
      "execution_count": null,
      "metadata": {
        "id": "2hV4B80VChpz"
      },
      "outputs": [],
      "source": [
        "helen_train_pd"
      ]
    },
    {
      "cell_type": "code",
      "source": [
        "helen_test_pd"
      ],
      "metadata": {
        "id": "L6ck0SGYPhwd"
      },
      "execution_count": null,
      "outputs": []
    },
    {
      "cell_type": "code",
      "execution_count": null,
      "metadata": {
        "id": "L0zAwJsOCzU0"
      },
      "outputs": [],
      "source": [
        "lfpw_train_pd"
      ]
    },
    {
      "cell_type": "code",
      "source": [
        "lfpw_test_pd"
      ],
      "metadata": {
        "id": "nbHY2L7wPo3B"
      },
      "execution_count": null,
      "outputs": []
    },
    {
      "cell_type": "markdown",
      "metadata": {
        "id": "8ngo-Fzr2BAz"
      },
      "source": [
        "Length of AFW - 337\n",
        "\n",
        "Length of iBug - 135\n",
        "\n",
        "Length of helen (train+test) - 2000 + 330\n",
        "\n",
        "Length of LFPW (train+test - 881 + 224\n"
      ]
    },
    {
      "cell_type": "markdown",
      "metadata": {
        "id": "n8wUoHyUFVe2"
      },
      "source": [
        "### Visualize annotated data"
      ]
    },
    {
      "cell_type": "code",
      "execution_count": null,
      "metadata": {
        "id": "pAw0aLpz2a9X"
      },
      "outputs": [],
      "source": [
        "# AFW\n",
        "sample_idx = 2\n",
        "img = cv2.imread(afw_pd['path'][sample_idx])\n",
        "plt.imshow(img)\n",
        "plt.scatter(afw_pd['lm'][sample_idx][:,0], afw_pd['lm'][sample_idx][:,1], s=3, c='r')"
      ]
    },
    {
      "cell_type": "code",
      "execution_count": null,
      "metadata": {
        "id": "BMHPdNc8a8zR"
      },
      "outputs": [],
      "source": [
        "# iBug\n",
        "img = cv2.imread(ibug_pd['path'][sample_idx])\n",
        "plt.imshow(img)\n",
        "plt.scatter(ibug_pd['lm'][sample_idx][:,0], ibug_pd['lm'][sample_idx][:,1], s=3, c='r')"
      ]
    },
    {
      "cell_type": "code",
      "execution_count": null,
      "metadata": {
        "id": "jylcfc2ADn4G"
      },
      "outputs": [],
      "source": [
        "# helen\n",
        "img = cv2.imread(helen_train_pd['path'][sample_idx])\n",
        "plt.imshow(img)\n",
        "plt.scatter(helen_train_pd['lm'][sample_idx][:,0], helen_train_pd['lm'][sample_idx][:,1], s=3, c='r')"
      ]
    },
    {
      "cell_type": "code",
      "execution_count": null,
      "metadata": {
        "id": "VezAg0UwDtT1"
      },
      "outputs": [],
      "source": [
        "# lfpw\n",
        "img = cv2.imread(lfpw_train_pd['path'][sample_idx])\n",
        "plt.imshow(img)\n",
        "plt.scatter(lfpw_train_pd['lm'][sample_idx][:,0], lfpw_train_pd['lm'][sample_idx][:,1], s=3, c='r')"
      ]
    },
    {
      "cell_type": "markdown",
      "source": [
        "### Histogram of image dimensions (after crpped)"
      ],
      "metadata": {
        "id": "T5vYooTcITeK"
      }
    },
    {
      "cell_type": "code",
      "execution_count": null,
      "metadata": {
        "id": "Zoczn8t9mllj"
      },
      "outputs": [],
      "source": [
        "## AFW\n",
        "x1,y1,x2,y2= zip(*afw_pd.loc[:,'bb'])\n",
        "\n",
        "plt.hist(list(map(lambda i, j: i - j, x2, x1)), bins=5)\n",
        "plt.show()"
      ]
    },
    {
      "cell_type": "code",
      "execution_count": null,
      "metadata": {
        "id": "opGYmRlarjE4"
      },
      "outputs": [],
      "source": [
        "plt.hist(list(map(lambda i, j: i - j, y2, y1)), bins=5)\n",
        "plt.show()"
      ]
    },
    {
      "cell_type": "code",
      "execution_count": null,
      "metadata": {
        "id": "yVcYhrbZbG-T"
      },
      "outputs": [],
      "source": [
        "## iBug\n",
        "x1,y1,x2,y2= zip(*ibug_pd.loc[:,'bb'])\n",
        "\n",
        "plt.hist(list(map(lambda i, j: i - j, x2, x1)), bins=5)\n",
        "plt.show()"
      ]
    },
    {
      "cell_type": "code",
      "execution_count": null,
      "metadata": {
        "id": "wcfsYIDmbKDH"
      },
      "outputs": [],
      "source": [
        "plt.hist(list(map(lambda i, j: i - j, y2, y1)), bins=5)\n",
        "plt.show()"
      ]
    },
    {
      "cell_type": "markdown",
      "source": [
        "## Data preprocessing"
      ],
      "metadata": {
        "id": "QU84EjzcI16T"
      }
    },
    {
      "cell_type": "markdown",
      "metadata": {
        "id": "XZDQD-Ogrzho"
      },
      "source": [
        "since most lie under 200 resize all to 192x192"
      ]
    },
    {
      "cell_type": "markdown",
      "metadata": {
        "id": "4pBcnt_MFyt4"
      },
      "source": [
        "Crop image and adjust landmarks then save to **respective** folder"
      ]
    },
    {
      "cell_type": "code",
      "execution_count": 5,
      "metadata": {
        "id": "T4b_rSi4Fq2O"
      },
      "outputs": [],
      "source": [
        "img_size = 96\n",
        "\n",
        "if not os.path.exists('afw_cropped'):\n",
        "  os.mkdir('afw_cropped')\n",
        "\n",
        "if not os.path.exists('ibug_cropped'):\n",
        "  os.mkdir('ibug_cropped')\n",
        "\n",
        "if not os.path.exists('helen_train_cropped'):\n",
        "  os.mkdir('helen_train_cropped')\n",
        "\n",
        "if not os.path.exists('helen_test_cropped'):\n",
        "  os.mkdir('helen_test_cropped')\n",
        "\n",
        "if not os.path.exists('lfpw_train_cropped'):\n",
        "  os.mkdir('lfpw_train_cropped')\n",
        "\n",
        "if not os.path.exists('lfpw_test_cropped'):\n",
        "  os.mkdir('lfpw_test_cropped')\n",
        "\n",
        "def resize_w_pad(img, lm, req_size):\n",
        "  original_shape = (img.shape[1], img.shape[0])\n",
        "  \n",
        "  ratio = float(max(req_size))/max(original_shape)\n",
        "  new_size = [int(x*ratio) for x in original_shape]\n",
        "\n",
        "  img = cv2.resize(img, tuple(new_size))\n",
        "  delta_w, delta_h = req_size[0] - new_size[0], req_size[1] - new_size[1]\n",
        "  top, bottom = delta_h//2, delta_h-(delta_h//2)\n",
        "  left, right = delta_w//2, delta_w-(delta_w//2)\n",
        "  lm *= [float(new_size[0]/original_shape[0]), float(new_size[1]/original_shape[1])]\n",
        "  lm += [left, top]\n",
        "  lm = np.clip(lm,0,req_size[0])\n",
        "  img = cv2.copyMakeBorder(img, top, bottom, left, right, cv2.BORDER_CONSTANT, value=(0,0,0))\n",
        "  return img, lm\n",
        "\n",
        "def preprocess_data(row, dataset):\n",
        "  un_img = cv2.imread(row['path'])\n",
        "  x1,y1,x2,y2 = row['bb']\n",
        "  #crop\n",
        "  c_img = un_img[int(y1-1):int(y2+1), int(x1-1):int(x2+1)]\n",
        "  c_lm = row['lm'] - [x1,y1]\n",
        "  #resize_with_padding\n",
        "  resized_img, resized_lm = resize_w_pad(c_img, c_lm, (img_size,img_size))\n",
        "\n",
        "  cv2.imwrite(f\"{dataset}_cropped/{row['name']}\" , resized_img)\n",
        "  return resized_lm.ravel()\n",
        "\n",
        "def generate_df(df, name):\n",
        "  lms = list(map(lambda x: preprocess_data(x[1], name), df.iterrows()))\n",
        "\n",
        "  # dataframe for image generator\n",
        "  return pd.DataFrame({'path': f\"{name}_cropped/\" + df['name'].values, **{f\"{i}\": [lm[i] for lm in lms] for i in range(136)}})\n",
        "\n",
        "afw_df = generate_df(afw_pd, 'afw')\n",
        "ibug_df = generate_df(ibug_pd, 'ibug')\n",
        "helen_train_df = generate_df(helen_train_pd, 'helen_train')\n",
        "helen_test_df = generate_df(helen_test_pd, 'helen_test')\n",
        "lfpw_train_df = generate_df(lfpw_train_pd, 'lfpw_train')\n",
        "lfpw_test_df = generate_df(lfpw_test_pd, 'lfpw_test')\n",
        "\n",
        "# con_df = pd.concat([afw_df,ibug_df, helen_train_df, helen_test_df, lfpw_train_df, lfpw_test_df], axis=0)\n",
        "# con_df.to_csv('train.csv', index=False)"
      ]
    },
    {
      "cell_type": "markdown",
      "source": [
        "## Sample"
      ],
      "metadata": {
        "id": "DkSQlVyfJFA1"
      }
    },
    {
      "cell_type": "code",
      "execution_count": null,
      "metadata": {
        "id": "1jt3cv_-a4Kv"
      },
      "outputs": [],
      "source": [
        "sample_idx = 124\n",
        "def crop_(path, box, name, bb, lm):\n",
        "  un_img = cv2.imread(path)\n",
        "  x1,y1,x2,y2 = box\n",
        "\n",
        "  c_img = un_img[int(y1-1):int(y2+1), int(x1-1):int(x2+1)]\n",
        "  c_lm = lm - [x1,y1]\n",
        "  return resize_w_pad(c_img, c_lm, (img_size,img_size))\n",
        "\n",
        "cropped_img, lms = crop_(afw_pd['path'][sample_idx],afw_pd['bb'][sample_idx],afw_pd['name'][sample_idx], afw_pd['bb'][sample_idx], afw_pd['lm'][sample_idx])\n",
        "lms = lms.ravel()"
      ]
    },
    {
      "cell_type": "code",
      "execution_count": null,
      "metadata": {
        "id": "0jWfj7TryqwM"
      },
      "outputs": [],
      "source": [
        "## AFW\n",
        "img = cv2.imread(afw_pd['path'][sample_idx])\n",
        "plt.imshow(img)\n",
        "plt.scatter(afw_pd['lm'][sample_idx][:,0], afw_pd['lm'][sample_idx][:,1], s=3, c='r')"
      ]
    },
    {
      "cell_type": "code",
      "execution_count": null,
      "metadata": {
        "id": "AYKIAJ8_zUDo"
      },
      "outputs": [],
      "source": [
        "plt.imshow(cropped_img)\n",
        "plt.scatter(lms[0:136:2],lms[1:136:2], s=3, c='r')"
      ]
    },
    {
      "cell_type": "code",
      "execution_count": null,
      "metadata": {
        "id": "R2Kav0AAdP4T"
      },
      "outputs": [],
      "source": [
        "## iBug\n",
        "\n",
        "cropped_img, lms = crop_(ibug_pd['path'][sample_idx],ibug_pd['bb'][sample_idx],ibug_pd['name'][sample_idx], ibug_pd['bb'][sample_idx], ibug_pd['lm'][sample_idx])\n",
        "lms = lms.ravel()\n",
        "\n",
        "img = cv2.imread(ibug_pd['path'][sample_idx])\n",
        "plt.imshow(img)\n",
        "plt.scatter(ibug_pd['lm'][sample_idx][:,0], ibug_pd['lm'][sample_idx][:,1], s=3, c='r')"
      ]
    },
    {
      "cell_type": "code",
      "execution_count": null,
      "metadata": {
        "id": "5Te9LR-cdZFV"
      },
      "outputs": [],
      "source": [
        "plt.imshow(cropped_img)\n",
        "plt.scatter(lms[0:136:2],lms[1:136:2], s=3, c='r')"
      ]
    },
    {
      "cell_type": "code",
      "execution_count": null,
      "metadata": {
        "id": "TpBJsLuhuVFO"
      },
      "outputs": [],
      "source": [
        "# check csv\n",
        "c_df = pd.read_csv('train.csv')\n",
        "c_df.head()"
      ]
    },
    {
      "cell_type": "code",
      "execution_count": null,
      "metadata": {
        "id": "GAvebS4buVBC"
      },
      "outputs": [],
      "source": [
        "sample_idx = 359\n",
        "img = cv2.imread(c_df['path'][sample_idx])\n",
        "plt.imshow(img)\n",
        "plt.scatter(c_df.iloc[sample_idx, 1:137:2] * img_size ,c_df.iloc[sample_idx, 2:137:2] * img_size, s=3, c='r')"
      ]
    },
    {
      "cell_type": "markdown",
      "source": [
        "## Data augmentation"
      ],
      "metadata": {
        "id": "Auf_5xLkJN8K"
      }
    },
    {
      "cell_type": "code",
      "execution_count": 6,
      "metadata": {
        "id": "xcHAja7xEdud"
      },
      "outputs": [],
      "source": [
        "# randomly picking 50 % of train data to create each augmentations \n",
        "random_afw_aug_images = np.random.choice(np.arange(afw_df.shape[0]), size=int(afw_df.shape[0] * 0.5), replace=False)\n",
        "random_ibug_aug_images = np.random.choice(np.arange(ibug_df.shape[0]), size=int(ibug_df.shape[0] * 0.5), replace=False)\n",
        "random_helen_train_aug_images = np.random.choice(np.arange(helen_train_df.shape[0]), size=int(helen_train_df.shape[0] * 0.5), replace=False)\n",
        "random_helen_test_aug_images = np.random.choice(np.arange(helen_test_df.shape[0]), size=int(helen_test_df.shape[0] * 0.5), replace=False)\n",
        "random_lfpw_train_aug_images = np.random.choice(np.arange(lfpw_train_df.shape[0]), size=int(lfpw_train_df.shape[0] * 0.5), replace=False)\n",
        "random_lfpw_test_aug_images = np.random.choice(np.arange(lfpw_test_df.shape[0]), size=int(lfpw_test_df.shape[0] * 0.5), replace=False)\n",
        "\n",
        "if not os.path.exists('afw_cropped_aug'):\n",
        "  os.mkdir('afw_cropped_aug')\n",
        "\n",
        "if not os.path.exists('ibug_cropped_aug'):\n",
        "  os.mkdir('ibug_cropped_aug')\n",
        "\n",
        "if not os.path.exists('helen_train_cropped_aug'):\n",
        "  os.mkdir('helen_train_cropped_aug')\n",
        "\n",
        "if not os.path.exists('helen_test_cropped_aug'):\n",
        "  os.mkdir('helen_test_cropped_aug')\n",
        "\n",
        "if not os.path.exists('lfpw_train_cropped_aug'):\n",
        "  os.mkdir('lfpw_train_cropped_aug')\n",
        "\n",
        "if not os.path.exists('lfpw_test_cropped_aug'):\n",
        "  os.mkdir('lfpw_test_cropped_aug')\n"
      ]
    },
    {
      "cell_type": "markdown",
      "source": [
        "### Rotate image"
      ],
      "metadata": {
        "id": "--WZ026GYTBQ"
      }
    },
    {
      "cell_type": "code",
      "source": [
        "def aug_rotate(df, dataset, angle):\n",
        "  lis = []\n",
        "  lin = []\n",
        "\n",
        "  seq = iaa.Sequential(\n",
        "      [\n",
        "       iaa.Affine(rotate=angle)\n",
        "      ]\n",
        "  )\n",
        "\n",
        "  for idx, row in df.iterrows():\n",
        "\n",
        "    xcoord = row[1:137:2].copy()\n",
        "    ycoord = row[2:137:2].copy()\n",
        "    un_img = cv2.imread(row['path'])\n",
        "    rotated = False\n",
        "    count = 1\n",
        "\n",
        "    while not rotated:\n",
        "      new_coord = []\n",
        "      l = []\n",
        "\n",
        "      for i in range(len(xcoord)):\n",
        "        new_coord.append(Keypoint(xcoord[i], ycoord[i]))\n",
        "      \n",
        "      kps = KeypointsOnImage(new_coord, shape=(un_img.shape))\n",
        "      new_img, new_kps = seq(image=un_img, keypoints=kps)\n",
        "\n",
        "      for i in range(len(kps.keypoints)):\n",
        "        l.append(new_kps.keypoints[i].x)\n",
        "        l.append(new_kps.keypoints[i].y)\n",
        "\n",
        "      if(all(kp >= 0 and kp <= img_size for kp in l)):\n",
        "        cv2.imwrite(f\"{dataset}_cropped_aug/A_R{angle}_{idx}.png\" , new_img)\n",
        "        lin.append(f\"{dataset}_cropped_aug/A_R{angle}_{idx}.png\")\n",
        "        lis.append(l)\n",
        "        rotated = True\n",
        "      else:\n",
        "        un_img = cv2.imread(row['path'])\n",
        "        lkp = row[1:137:1].copy().values.reshape(-1, 2)\n",
        "\n",
        "        un_img, lkp = resize_w_pad(un_img, lkp, (img_size - (count * 10), img_size - (count * 10)))\n",
        "        delta_w, delta_h = img_size - (img_size - (count * 10)), img_size - (img_size - (count * 10))\n",
        "\n",
        "        top, bottom = delta_h//2, delta_h-(delta_h//2)\n",
        "        left, right = delta_w//2, delta_w-(delta_w//2)\n",
        "        lkp += [left, top]\n",
        "        lkp = np.clip(lkp,top,img_size - top)\n",
        "        un_img = cv2.copyMakeBorder(un_img, top, bottom, left, right, cv2.BORDER_CONSTANT, value=(0,0,0))\n",
        "\n",
        "        lkp = lkp.reshape(136)\n",
        "        count += 1\n",
        "\n",
        "        xcoord = lkp[0:136:2].copy()\n",
        "        ycoord = lkp[1:136:2].copy()\n",
        "    \n",
        "  return np.asarray(lin), np.asarray(lis)"
      ],
      "metadata": {
        "id": "5id8wldaILNa"
      },
      "execution_count": 7,
      "outputs": []
    },
    {
      "cell_type": "code",
      "source": [
        "afw_m30_lin, afw_m30_lis = aug_rotate(afw_df.iloc[random_afw_aug_images], 'afw', -30)\n",
        "afw_m20_lin, afw_m20_lis = aug_rotate(afw_df.iloc[random_afw_aug_images], 'afw', -20)\n",
        "afw_m10_lin, afw_m10_lis = aug_rotate(afw_df.iloc[random_afw_aug_images], 'afw', -10)\n",
        "afw_10_lin, afw_10_lis = aug_rotate(afw_df.iloc[random_afw_aug_images], 'afw', 10)\n",
        "afw_20_lin, afw_20_lis = aug_rotate(afw_df.iloc[random_afw_aug_images], 'afw', 20)\n",
        "afw_30_lin, afw_30_lis = aug_rotate(afw_df.iloc[random_afw_aug_images], 'afw', 30)\n",
        "\n",
        "afw_lin = np.concatenate((afw_m30_lin, afw_m20_lin, afw_m10_lin, afw_10_lin, afw_20_lin, afw_30_lin), axis=0)\n",
        "afw_lis = np.concatenate((afw_m30_lis, afw_m20_lis, afw_m10_lis, afw_10_lis, afw_20_lis, afw_30_lis), axis=0)"
      ],
      "metadata": {
        "id": "bhOf0xnCdBTh"
      },
      "execution_count": 8,
      "outputs": []
    },
    {
      "cell_type": "code",
      "source": [
        "ibug_m30_lin, ibug_m30_lis = aug_rotate(ibug_df.iloc[random_ibug_aug_images], 'ibug', -30)\n",
        "ibug_m20_lin, ibug_m20_lis = aug_rotate(ibug_df.iloc[random_ibug_aug_images], 'ibug', -20)\n",
        "ibug_m10_lin, ibug_m10_lis = aug_rotate(ibug_df.iloc[random_ibug_aug_images], 'ibug', -10)\n",
        "ibug_10_lin, ibug_10_lis = aug_rotate(ibug_df.iloc[random_ibug_aug_images], 'ibug', 10)\n",
        "ibug_20_lin, ibug_20_lis = aug_rotate(ibug_df.iloc[random_ibug_aug_images], 'ibug', 20)\n",
        "ibug_30_lin, ibug_30_lis = aug_rotate(ibug_df.iloc[random_ibug_aug_images], 'ibug', 30)\n",
        "\n",
        "ibug_lin = np.concatenate((ibug_m30_lin, ibug_m20_lin, ibug_m10_lin, ibug_10_lin, ibug_20_lin, ibug_30_lin), axis=0)\n",
        "ibug_lis = np.concatenate((ibug_m30_lis, ibug_m20_lis, ibug_m10_lis, ibug_10_lis, ibug_20_lis, ibug_30_lis), axis=0)"
      ],
      "metadata": {
        "id": "HPP4K4IKdFRF"
      },
      "execution_count": null,
      "outputs": []
    },
    {
      "cell_type": "code",
      "source": [
        "helen_train_m30_lin, helen_train_m30_lis = aug_rotate(helen_train_df.iloc[random_helen_train_aug_images], 'helen_train', -30)\n",
        "helen_train_m20_lin, helen_train_m20_lis = aug_rotate(helen_train_df.iloc[random_helen_train_aug_images], 'helen_train', -20)\n",
        "helen_train_m10_lin, helen_train_m10_lis = aug_rotate(helen_train_df.iloc[random_helen_train_aug_images], 'helen_train', -10)\n",
        "helen_train_10_lin, helen_train_10_lis = aug_rotate(helen_train_df.iloc[random_helen_train_aug_images], 'helen_train', 10)\n",
        "helen_train_20_lin, helen_train_20_lis = aug_rotate(helen_train_df.iloc[random_helen_train_aug_images], 'helen_train', 20)\n",
        "helen_train_30_lin, helen_train_30_lis = aug_rotate(helen_train_df.iloc[random_helen_train_aug_images], 'helen_train', 30)\n",
        "\n",
        "helen_train_lin = np.concatenate((helen_train_m30_lin, helen_train_m20_lin, helen_train_m10_lin, helen_train_10_lin, helen_train_20_lin, helen_train_30_lin), axis=0)\n",
        "helen_train_lis = np.concatenate((helen_train_m30_lis, helen_train_m20_lis, helen_train_m10_lis, helen_train_10_lis, helen_train_20_lis, helen_train_30_lis), axis=0)\n",
        "\n",
        "# helen_test_m30_lin, helen_test_m30_lis = aug_rotate(helen_test_df.iloc[random_helen_test_aug_images], 'helen_test', -30)\n",
        "# helen_test_m20_lin, helen_test_m20_lis = aug_rotate(helen_test_df.iloc[random_helen_test_aug_images], 'helen_test', -20)\n",
        "# helen_test_m10_lin, helen_test_m10_lis = aug_rotate(helen_test_df.iloc[random_helen_test_aug_images], 'helen_test', -10)\n",
        "# helen_test_10_lin, helen_test_10_lis = aug_rotate(helen_test_df.iloc[random_helen_test_aug_images], 'helen_test', 10)\n",
        "# helen_test_20_lin, helen_test_20_lis = aug_rotate(helen_test_df.iloc[random_helen_test_aug_images], 'helen_test', 20)\n",
        "# helen_test_30_lin, helen_test_30_lis = aug_rotate(helen_test_df.iloc[random_helen_test_aug_images], 'helen_test', 30)\n",
        "\n",
        "# helen_test_lin = np.concatenate((helen_test_m30_lin, helen_test_m20_lin, helen_test_m10_lin, helen_test_10_lin, helen_test_20_lin, helen_test_30_lin), axis=0)\n",
        "# helen_test_lis = np.concatenate((helen_test_m30_lis, helen_test_m20_lis, helen_test_m10_lis, helen_test_10_lis, helen_test_20_lis, helen_test_30_lis), axis=0)"
      ],
      "metadata": {
        "id": "0TYJfIUodF92"
      },
      "execution_count": 9,
      "outputs": []
    },
    {
      "cell_type": "code",
      "source": [
        "lfpw_train_m30_lin, lfpw_train_m30_lis = aug_rotate(lfpw_train_df.iloc[random_lfpw_train_aug_images], 'lfpw_train', -30)\n",
        "lfpw_train_m20_lin, lfpw_train_m20_lis = aug_rotate(lfpw_train_df.iloc[random_lfpw_train_aug_images], 'lfpw_train', -20)\n",
        "lfpw_train_m10_lin, lfpw_train_m10_lis = aug_rotate(lfpw_train_df.iloc[random_lfpw_train_aug_images], 'lfpw_train', -10)\n",
        "lfpw_train_10_lin, lfpw_train_10_lis = aug_rotate(lfpw_train_df.iloc[random_lfpw_train_aug_images], 'lfpw_train', 10)\n",
        "lfpw_train_20_lin, lfpw_train_20_lis = aug_rotate(lfpw_train_df.iloc[random_lfpw_train_aug_images], 'lfpw_train', 20)\n",
        "lfpw_train_30_lin, lfpw_train_30_lis = aug_rotate(lfpw_train_df.iloc[random_lfpw_train_aug_images], 'lfpw_train', 30)\n",
        "\n",
        "lfpw_train_lin = np.concatenate((lfpw_train_m30_lin, lfpw_train_m20_lin, lfpw_train_m10_lin, lfpw_train_10_lin, lfpw_train_20_lin, lfpw_train_30_lin), axis=0)\n",
        "lfpw_train_lis = np.concatenate((lfpw_train_m30_lis, lfpw_train_m20_lis, lfpw_train_m10_lis, lfpw_train_10_lis, lfpw_train_20_lis, lfpw_train_30_lis), axis=0)\n",
        "\n",
        "# lfpw_test_m30_lin, lfpw_test_m30_lis = aug_rotate(lfpw_test_df.iloc[random_lfpw_test_aug_images], 'lfpw_test', -30)\n",
        "# lfpw_test_m20_lin, lfpw_test_m20_lis = aug_rotate(lfpw_test_df.iloc[random_lfpw_test_aug_images], 'lfpw_test', -20)\n",
        "# lfpw_test_m10_lin, lfpw_test_m10_lis = aug_rotate(lfpw_test_df.iloc[random_lfpw_test_aug_images], 'lfpw_test', -10)\n",
        "# lfpw_test_10_lin, lfpw_test_10_lis = aug_rotate(lfpw_test_df.iloc[random_lfpw_test_aug_images], 'lfpw_test', 10)\n",
        "# lfpw_test_20_lin, lfpw_test_20_lis = aug_rotate(lfpw_test_df.iloc[random_lfpw_test_aug_images], 'lfpw_test', 20)\n",
        "# lfpw_test_30_lin, lfpw_test_30_lis = aug_rotate(lfpw_test_df.iloc[random_lfpw_test_aug_images], 'lfpw_test', 30)\n",
        "\n",
        "# lfpw_test_lin = np.concatenate((lfpw_test_m30_lin, lfpw_test_m20_lin, lfpw_test_m10_lin, lfpw_test_10_lin, lfpw_test_20_lin, lfpw_test_30_lin), axis=0)\n",
        "# lfpw_test_lis = np.concatenate((lfpw_test_m30_lis, lfpw_test_m20_lis, lfpw_test_m10_lis, lfpw_test_10_lis, lfpw_test_20_lis, lfpw_test_30_lis), axis=0)"
      ],
      "metadata": {
        "id": "bZ1qu7TCdHDR"
      },
      "execution_count": 10,
      "outputs": []
    },
    {
      "cell_type": "code",
      "execution_count": 12,
      "metadata": {
        "id": "HoTM_T3uMBvx"
      },
      "outputs": [],
      "source": [
        "afw_aug_df = pd.DataFrame({'path': afw_lin, **{f\"{i}\": [lm[i] for lm in afw_lis] for i in range(136)} })\n",
        "# ibug_aug_df = pd.DataFrame({'path': ibug_lin, **{f\"{i}\": [lm[i] for lm in ibug_lis] for i in range(136)} })\n",
        "helen_train_aug_df = pd.DataFrame({'path': helen_train_lin, **{f\"{i}\": [lm[i] for lm in helen_train_lis] for i in range(136)} })\n",
        "# helen_test_aug_df = pd.DataFrame({'path': helen_test_lin, **{f\"{i}\": [lm[i] for lm in helen_test_lis] for i in range(136)} })\n",
        "lfpw_train_aug_df = pd.DataFrame({'path': lfpw_train_lin, **{f\"{i}\": [lm[i] for lm in lfpw_train_lis] for i in range(136)} })\n",
        "# lfpw_test_aug_df = pd.DataFrame({'path': lfpw_test_lin, **{f\"{i}\": [lm[i] for lm in lfpw_test_lis] for i in range(136)} })"
      ]
    },
    {
      "cell_type": "code",
      "source": [
        "# con_df = pd.concat([con_df,afw_aug_df, ibug_aug_df, helen_train_aug_df, helen_test_aug_df, lfpw_train_aug_df, lfpw_test_aug_df], axis=0)\n",
        "# afw_df,ibug_df, helen_train_df, helen_test_df, lfpw_train_df, lfpw_test_df\n",
        "con_df = pd.concat([afw_df, helen_train_df, lfpw_train_df,afw_aug_df, helen_train_aug_df,lfpw_train_aug_df], axis=0)\n",
        "con_df.to_csv('train.csv', index=False)\n",
        "\n",
        "ibug_df.to_csv('test_ibug.csv', index=False)\n",
        "helen_test_df.to_csv('test_helen.csv', index=False)\n",
        "lfpw_test_df.to_csv('test_lfpw.csv', index=False)"
      ],
      "metadata": {
        "id": "3EDJI0hrNfPf"
      },
      "execution_count": 13,
      "outputs": []
    },
    {
      "cell_type": "code",
      "execution_count": null,
      "metadata": {
        "colab": {
          "base_uri": "https://localhost:8080/",
          "height": 488
        },
        "id": "GSEVgB9fS5YK",
        "outputId": "46362f1d-2d7a-4a6b-ce59-bd747a447850"
      },
      "outputs": [
        {
          "output_type": "execute_result",
          "data": {
            "text/plain": [
              "                                      path          0          1          2  \\\n",
              "0             afw_cropped/1051618982_1.jpg   0.000000  17.003805   0.576470   \n",
              "1              afw_cropped/111076519_1.jpg   2.034325  16.624117   0.288295   \n",
              "2              afw_cropped/111076519_2.jpg   7.149173   6.461379   4.341595   \n",
              "3             afw_cropped/1130084326_1.jpg   2.235619  26.252510   0.840574   \n",
              "4             afw_cropped/1130084326_2.jpg   0.000000  15.958494   0.067132   \n",
              "...                                    ...        ...        ...        ...   \n",
              "15334  lfpw_test_cropped_aug/A_R30_149.png  30.208211  12.450258  25.477664   \n",
              "15335   lfpw_test_cropped_aug/A_R30_56.png  24.035135  14.725672  22.456386   \n",
              "15336   lfpw_test_cropped_aug/A_R30_73.png  23.657670  13.796128  22.225983   \n",
              "15337  lfpw_test_cropped_aug/A_R30_223.png  25.946378   9.831968  21.372089   \n",
              "15338  lfpw_test_cropped_aug/A_R30_200.png  34.560077   4.912603  30.035250   \n",
              "\n",
              "               3          4          5          6          7          8  ...  \\\n",
              "0      29.777481   2.136937  42.947453   3.667072  55.279767   8.856379  ...   \n",
              "1      29.145449   0.000000  42.325174   1.103248  54.426171   5.324723  ...   \n",
              "2      19.814201   0.991729  33.183510   0.000000  46.244513   2.546046  ...   \n",
              "3      37.170755   0.000000  46.839916   1.659832  57.330488   4.522776  ...   \n",
              "4      29.396407   0.845501  41.791953   3.116664  52.952008   8.273099  ...   \n",
              "...          ...        ...        ...        ...        ...        ...  ...   \n",
              "15334  21.475984  21.389760  30.618335  18.755273  40.152334  19.916843  ...   \n",
              "15335  26.135795  19.200618  35.057837  17.047395  44.293467  16.813646  ...   \n",
              "15336  22.360178  21.362934  31.008774  19.807346  39.727824  18.942555  ...   \n",
              "15337  18.530046  17.380309  27.450244  14.631750  36.823027  11.719535  ...   \n",
              "15338  13.979128  25.105321  22.944403  22.255929  31.567310  21.213427  ...   \n",
              "\n",
              "             126        127        128        129        130        131  \\\n",
              "0      50.785899  60.474418  63.756604  59.503455  50.785899  60.474418   \n",
              "1      57.071987  60.021645  68.155122  62.022774  55.926251  68.597984   \n",
              "2      58.306092  59.975316  66.646444  63.924984  53.628588  68.926677   \n",
              "3      21.397712  60.944769  35.405382  61.762437  21.397712  60.944769   \n",
              "4      71.349660  63.632519  75.503242  62.703380  71.349660  63.632519   \n",
              "...          ...        ...        ...        ...        ...        ...   \n",
              "15334  56.914461  65.059414  59.449503  67.489926  56.914461  65.059414   \n",
              "15335  51.348531  59.181950  62.221971  61.388250  50.247631  63.457303   \n",
              "15336  47.047195  66.208017  55.160329  66.257328  47.047195  66.208017   \n",
              "15337  44.282687  56.714014  52.009973  61.478522  44.282687  56.714014   \n",
              "15338  53.002259  64.723439  57.358756  66.407120  53.002259  64.723439   \n",
              "\n",
              "             132        133        134        135  \n",
              "0      45.880103  60.322215  40.932776  60.199395  \n",
              "1      48.918233  68.593746  42.249649  66.882766  \n",
              "2      46.735253  67.956967  41.013856  65.661706  \n",
              "3      17.528763  60.750664  14.818794  60.461597  \n",
              "4      66.093686  63.895405  60.861108  63.725377  \n",
              "...          ...        ...        ...        ...  \n",
              "15334  54.564865  64.193119  52.380151  63.019315  \n",
              "15335  44.727293  62.318628  39.386506  60.125943  \n",
              "15336  43.857095  65.611965  40.652752  63.984407  \n",
              "15337  40.084438  54.423347  36.593078  52.495697  \n",
              "15338  50.244502  63.664924  47.558899  62.189480  \n",
              "\n",
              "[15339 rows x 137 columns]"
            ],
            "text/html": [
              "\n",
              "  <div id=\"df-c75f50fc-51be-48e6-a2f1-29d38203f85a\">\n",
              "    <div class=\"colab-df-container\">\n",
              "      <div>\n",
              "<style scoped>\n",
              "    .dataframe tbody tr th:only-of-type {\n",
              "        vertical-align: middle;\n",
              "    }\n",
              "\n",
              "    .dataframe tbody tr th {\n",
              "        vertical-align: top;\n",
              "    }\n",
              "\n",
              "    .dataframe thead th {\n",
              "        text-align: right;\n",
              "    }\n",
              "</style>\n",
              "<table border=\"1\" class=\"dataframe\">\n",
              "  <thead>\n",
              "    <tr style=\"text-align: right;\">\n",
              "      <th></th>\n",
              "      <th>path</th>\n",
              "      <th>0</th>\n",
              "      <th>1</th>\n",
              "      <th>2</th>\n",
              "      <th>3</th>\n",
              "      <th>4</th>\n",
              "      <th>5</th>\n",
              "      <th>6</th>\n",
              "      <th>7</th>\n",
              "      <th>8</th>\n",
              "      <th>...</th>\n",
              "      <th>126</th>\n",
              "      <th>127</th>\n",
              "      <th>128</th>\n",
              "      <th>129</th>\n",
              "      <th>130</th>\n",
              "      <th>131</th>\n",
              "      <th>132</th>\n",
              "      <th>133</th>\n",
              "      <th>134</th>\n",
              "      <th>135</th>\n",
              "    </tr>\n",
              "  </thead>\n",
              "  <tbody>\n",
              "    <tr>\n",
              "      <th>0</th>\n",
              "      <td>afw_cropped/1051618982_1.jpg</td>\n",
              "      <td>0.000000</td>\n",
              "      <td>17.003805</td>\n",
              "      <td>0.576470</td>\n",
              "      <td>29.777481</td>\n",
              "      <td>2.136937</td>\n",
              "      <td>42.947453</td>\n",
              "      <td>3.667072</td>\n",
              "      <td>55.279767</td>\n",
              "      <td>8.856379</td>\n",
              "      <td>...</td>\n",
              "      <td>50.785899</td>\n",
              "      <td>60.474418</td>\n",
              "      <td>63.756604</td>\n",
              "      <td>59.503455</td>\n",
              "      <td>50.785899</td>\n",
              "      <td>60.474418</td>\n",
              "      <td>45.880103</td>\n",
              "      <td>60.322215</td>\n",
              "      <td>40.932776</td>\n",
              "      <td>60.199395</td>\n",
              "    </tr>\n",
              "    <tr>\n",
              "      <th>1</th>\n",
              "      <td>afw_cropped/111076519_1.jpg</td>\n",
              "      <td>2.034325</td>\n",
              "      <td>16.624117</td>\n",
              "      <td>0.288295</td>\n",
              "      <td>29.145449</td>\n",
              "      <td>0.000000</td>\n",
              "      <td>42.325174</td>\n",
              "      <td>1.103248</td>\n",
              "      <td>54.426171</td>\n",
              "      <td>5.324723</td>\n",
              "      <td>...</td>\n",
              "      <td>57.071987</td>\n",
              "      <td>60.021645</td>\n",
              "      <td>68.155122</td>\n",
              "      <td>62.022774</td>\n",
              "      <td>55.926251</td>\n",
              "      <td>68.597984</td>\n",
              "      <td>48.918233</td>\n",
              "      <td>68.593746</td>\n",
              "      <td>42.249649</td>\n",
              "      <td>66.882766</td>\n",
              "    </tr>\n",
              "    <tr>\n",
              "      <th>2</th>\n",
              "      <td>afw_cropped/111076519_2.jpg</td>\n",
              "      <td>7.149173</td>\n",
              "      <td>6.461379</td>\n",
              "      <td>4.341595</td>\n",
              "      <td>19.814201</td>\n",
              "      <td>0.991729</td>\n",
              "      <td>33.183510</td>\n",
              "      <td>0.000000</td>\n",
              "      <td>46.244513</td>\n",
              "      <td>2.546046</td>\n",
              "      <td>...</td>\n",
              "      <td>58.306092</td>\n",
              "      <td>59.975316</td>\n",
              "      <td>66.646444</td>\n",
              "      <td>63.924984</td>\n",
              "      <td>53.628588</td>\n",
              "      <td>68.926677</td>\n",
              "      <td>46.735253</td>\n",
              "      <td>67.956967</td>\n",
              "      <td>41.013856</td>\n",
              "      <td>65.661706</td>\n",
              "    </tr>\n",
              "    <tr>\n",
              "      <th>3</th>\n",
              "      <td>afw_cropped/1130084326_1.jpg</td>\n",
              "      <td>2.235619</td>\n",
              "      <td>26.252510</td>\n",
              "      <td>0.840574</td>\n",
              "      <td>37.170755</td>\n",
              "      <td>0.000000</td>\n",
              "      <td>46.839916</td>\n",
              "      <td>1.659832</td>\n",
              "      <td>57.330488</td>\n",
              "      <td>4.522776</td>\n",
              "      <td>...</td>\n",
              "      <td>21.397712</td>\n",
              "      <td>60.944769</td>\n",
              "      <td>35.405382</td>\n",
              "      <td>61.762437</td>\n",
              "      <td>21.397712</td>\n",
              "      <td>60.944769</td>\n",
              "      <td>17.528763</td>\n",
              "      <td>60.750664</td>\n",
              "      <td>14.818794</td>\n",
              "      <td>60.461597</td>\n",
              "    </tr>\n",
              "    <tr>\n",
              "      <th>4</th>\n",
              "      <td>afw_cropped/1130084326_2.jpg</td>\n",
              "      <td>0.000000</td>\n",
              "      <td>15.958494</td>\n",
              "      <td>0.067132</td>\n",
              "      <td>29.396407</td>\n",
              "      <td>0.845501</td>\n",
              "      <td>41.791953</td>\n",
              "      <td>3.116664</td>\n",
              "      <td>52.952008</td>\n",
              "      <td>8.273099</td>\n",
              "      <td>...</td>\n",
              "      <td>71.349660</td>\n",
              "      <td>63.632519</td>\n",
              "      <td>75.503242</td>\n",
              "      <td>62.703380</td>\n",
              "      <td>71.349660</td>\n",
              "      <td>63.632519</td>\n",
              "      <td>66.093686</td>\n",
              "      <td>63.895405</td>\n",
              "      <td>60.861108</td>\n",
              "      <td>63.725377</td>\n",
              "    </tr>\n",
              "    <tr>\n",
              "      <th>...</th>\n",
              "      <td>...</td>\n",
              "      <td>...</td>\n",
              "      <td>...</td>\n",
              "      <td>...</td>\n",
              "      <td>...</td>\n",
              "      <td>...</td>\n",
              "      <td>...</td>\n",
              "      <td>...</td>\n",
              "      <td>...</td>\n",
              "      <td>...</td>\n",
              "      <td>...</td>\n",
              "      <td>...</td>\n",
              "      <td>...</td>\n",
              "      <td>...</td>\n",
              "      <td>...</td>\n",
              "      <td>...</td>\n",
              "      <td>...</td>\n",
              "      <td>...</td>\n",
              "      <td>...</td>\n",
              "      <td>...</td>\n",
              "      <td>...</td>\n",
              "    </tr>\n",
              "    <tr>\n",
              "      <th>15334</th>\n",
              "      <td>lfpw_test_cropped_aug/A_R30_149.png</td>\n",
              "      <td>30.208211</td>\n",
              "      <td>12.450258</td>\n",
              "      <td>25.477664</td>\n",
              "      <td>21.475984</td>\n",
              "      <td>21.389760</td>\n",
              "      <td>30.618335</td>\n",
              "      <td>18.755273</td>\n",
              "      <td>40.152334</td>\n",
              "      <td>19.916843</td>\n",
              "      <td>...</td>\n",
              "      <td>56.914461</td>\n",
              "      <td>65.059414</td>\n",
              "      <td>59.449503</td>\n",
              "      <td>67.489926</td>\n",
              "      <td>56.914461</td>\n",
              "      <td>65.059414</td>\n",
              "      <td>54.564865</td>\n",
              "      <td>64.193119</td>\n",
              "      <td>52.380151</td>\n",
              "      <td>63.019315</td>\n",
              "    </tr>\n",
              "    <tr>\n",
              "      <th>15335</th>\n",
              "      <td>lfpw_test_cropped_aug/A_R30_56.png</td>\n",
              "      <td>24.035135</td>\n",
              "      <td>14.725672</td>\n",
              "      <td>22.456386</td>\n",
              "      <td>26.135795</td>\n",
              "      <td>19.200618</td>\n",
              "      <td>35.057837</td>\n",
              "      <td>17.047395</td>\n",
              "      <td>44.293467</td>\n",
              "      <td>16.813646</td>\n",
              "      <td>...</td>\n",
              "      <td>51.348531</td>\n",
              "      <td>59.181950</td>\n",
              "      <td>62.221971</td>\n",
              "      <td>61.388250</td>\n",
              "      <td>50.247631</td>\n",
              "      <td>63.457303</td>\n",
              "      <td>44.727293</td>\n",
              "      <td>62.318628</td>\n",
              "      <td>39.386506</td>\n",
              "      <td>60.125943</td>\n",
              "    </tr>\n",
              "    <tr>\n",
              "      <th>15336</th>\n",
              "      <td>lfpw_test_cropped_aug/A_R30_73.png</td>\n",
              "      <td>23.657670</td>\n",
              "      <td>13.796128</td>\n",
              "      <td>22.225983</td>\n",
              "      <td>22.360178</td>\n",
              "      <td>21.362934</td>\n",
              "      <td>31.008774</td>\n",
              "      <td>19.807346</td>\n",
              "      <td>39.727824</td>\n",
              "      <td>18.942555</td>\n",
              "      <td>...</td>\n",
              "      <td>47.047195</td>\n",
              "      <td>66.208017</td>\n",
              "      <td>55.160329</td>\n",
              "      <td>66.257328</td>\n",
              "      <td>47.047195</td>\n",
              "      <td>66.208017</td>\n",
              "      <td>43.857095</td>\n",
              "      <td>65.611965</td>\n",
              "      <td>40.652752</td>\n",
              "      <td>63.984407</td>\n",
              "    </tr>\n",
              "    <tr>\n",
              "      <th>15337</th>\n",
              "      <td>lfpw_test_cropped_aug/A_R30_223.png</td>\n",
              "      <td>25.946378</td>\n",
              "      <td>9.831968</td>\n",
              "      <td>21.372089</td>\n",
              "      <td>18.530046</td>\n",
              "      <td>17.380309</td>\n",
              "      <td>27.450244</td>\n",
              "      <td>14.631750</td>\n",
              "      <td>36.823027</td>\n",
              "      <td>11.719535</td>\n",
              "      <td>...</td>\n",
              "      <td>44.282687</td>\n",
              "      <td>56.714014</td>\n",
              "      <td>52.009973</td>\n",
              "      <td>61.478522</td>\n",
              "      <td>44.282687</td>\n",
              "      <td>56.714014</td>\n",
              "      <td>40.084438</td>\n",
              "      <td>54.423347</td>\n",
              "      <td>36.593078</td>\n",
              "      <td>52.495697</td>\n",
              "    </tr>\n",
              "    <tr>\n",
              "      <th>15338</th>\n",
              "      <td>lfpw_test_cropped_aug/A_R30_200.png</td>\n",
              "      <td>34.560077</td>\n",
              "      <td>4.912603</td>\n",
              "      <td>30.035250</td>\n",
              "      <td>13.979128</td>\n",
              "      <td>25.105321</td>\n",
              "      <td>22.944403</td>\n",
              "      <td>22.255929</td>\n",
              "      <td>31.567310</td>\n",
              "      <td>21.213427</td>\n",
              "      <td>...</td>\n",
              "      <td>53.002259</td>\n",
              "      <td>64.723439</td>\n",
              "      <td>57.358756</td>\n",
              "      <td>66.407120</td>\n",
              "      <td>53.002259</td>\n",
              "      <td>64.723439</td>\n",
              "      <td>50.244502</td>\n",
              "      <td>63.664924</td>\n",
              "      <td>47.558899</td>\n",
              "      <td>62.189480</td>\n",
              "    </tr>\n",
              "  </tbody>\n",
              "</table>\n",
              "<p>15339 rows × 137 columns</p>\n",
              "</div>\n",
              "      <button class=\"colab-df-convert\" onclick=\"convertToInteractive('df-c75f50fc-51be-48e6-a2f1-29d38203f85a')\"\n",
              "              title=\"Convert this dataframe to an interactive table.\"\n",
              "              style=\"display:none;\">\n",
              "        \n",
              "  <svg xmlns=\"http://www.w3.org/2000/svg\" height=\"24px\"viewBox=\"0 0 24 24\"\n",
              "       width=\"24px\">\n",
              "    <path d=\"M0 0h24v24H0V0z\" fill=\"none\"/>\n",
              "    <path d=\"M18.56 5.44l.94 2.06.94-2.06 2.06-.94-2.06-.94-.94-2.06-.94 2.06-2.06.94zm-11 1L8.5 8.5l.94-2.06 2.06-.94-2.06-.94L8.5 2.5l-.94 2.06-2.06.94zm10 10l.94 2.06.94-2.06 2.06-.94-2.06-.94-.94-2.06-.94 2.06-2.06.94z\"/><path d=\"M17.41 7.96l-1.37-1.37c-.4-.4-.92-.59-1.43-.59-.52 0-1.04.2-1.43.59L10.3 9.45l-7.72 7.72c-.78.78-.78 2.05 0 2.83L4 21.41c.39.39.9.59 1.41.59.51 0 1.02-.2 1.41-.59l7.78-7.78 2.81-2.81c.8-.78.8-2.07 0-2.86zM5.41 20L4 18.59l7.72-7.72 1.47 1.35L5.41 20z\"/>\n",
              "  </svg>\n",
              "      </button>\n",
              "      \n",
              "  <style>\n",
              "    .colab-df-container {\n",
              "      display:flex;\n",
              "      flex-wrap:wrap;\n",
              "      gap: 12px;\n",
              "    }\n",
              "\n",
              "    .colab-df-convert {\n",
              "      background-color: #E8F0FE;\n",
              "      border: none;\n",
              "      border-radius: 50%;\n",
              "      cursor: pointer;\n",
              "      display: none;\n",
              "      fill: #1967D2;\n",
              "      height: 32px;\n",
              "      padding: 0 0 0 0;\n",
              "      width: 32px;\n",
              "    }\n",
              "\n",
              "    .colab-df-convert:hover {\n",
              "      background-color: #E2EBFA;\n",
              "      box-shadow: 0px 1px 2px rgba(60, 64, 67, 0.3), 0px 1px 3px 1px rgba(60, 64, 67, 0.15);\n",
              "      fill: #174EA6;\n",
              "    }\n",
              "\n",
              "    [theme=dark] .colab-df-convert {\n",
              "      background-color: #3B4455;\n",
              "      fill: #D2E3FC;\n",
              "    }\n",
              "\n",
              "    [theme=dark] .colab-df-convert:hover {\n",
              "      background-color: #434B5C;\n",
              "      box-shadow: 0px 1px 3px 1px rgba(0, 0, 0, 0.15);\n",
              "      filter: drop-shadow(0px 1px 2px rgba(0, 0, 0, 0.3));\n",
              "      fill: #FFFFFF;\n",
              "    }\n",
              "  </style>\n",
              "\n",
              "      <script>\n",
              "        const buttonEl =\n",
              "          document.querySelector('#df-c75f50fc-51be-48e6-a2f1-29d38203f85a button.colab-df-convert');\n",
              "        buttonEl.style.display =\n",
              "          google.colab.kernel.accessAllowed ? 'block' : 'none';\n",
              "\n",
              "        async function convertToInteractive(key) {\n",
              "          const element = document.querySelector('#df-c75f50fc-51be-48e6-a2f1-29d38203f85a');\n",
              "          const dataTable =\n",
              "            await google.colab.kernel.invokeFunction('convertToInteractive',\n",
              "                                                     [key], {});\n",
              "          if (!dataTable) return;\n",
              "\n",
              "          const docLinkHtml = 'Like what you see? Visit the ' +\n",
              "            '<a target=\"_blank\" href=https://colab.research.google.com/notebooks/data_table.ipynb>data table notebook</a>'\n",
              "            + ' to learn more about interactive tables.';\n",
              "          element.innerHTML = '';\n",
              "          dataTable['output_type'] = 'display_data';\n",
              "          await google.colab.output.renderOutput(dataTable, element);\n",
              "          const docLink = document.createElement('div');\n",
              "          docLink.innerHTML = docLinkHtml;\n",
              "          element.appendChild(docLink);\n",
              "        }\n",
              "      </script>\n",
              "    </div>\n",
              "  </div>\n",
              "  "
            ]
          },
          "metadata": {},
          "execution_count": 28
        }
      ],
      "source": [
        "pd.read_csv('train.csv')"
      ]
    },
    {
      "cell_type": "code",
      "execution_count": 14,
      "metadata": {
        "colab": {
          "base_uri": "https://localhost:8080/",
          "height": 285
        },
        "id": "6CaGw7bPS8id",
        "outputId": "96ebf3b1-5df1-4d58-c62e-f1d8ef270049"
      },
      "outputs": [
        {
          "output_type": "execute_result",
          "data": {
            "text/plain": [
              "<matplotlib.collections.PathCollection at 0x7f15f5d87710>"
            ]
          },
          "metadata": {},
          "execution_count": 14
        },
        {
          "output_type": "display_data",
          "data": {
            "text/plain": [
              "<Figure size 432x288 with 1 Axes>"
            ],
            "image/png": "[encoded data removed]"
          },
          "metadata": {
            "needs_background": "light"
          }
        }
      ],
      "source": [
        "dd = pd.read_csv('train.csv')\n",
        "sample_idx = 4050\n",
        "img = cv2.imread(dd['path'][sample_idx])\n",
        "plt.imshow(img)\n",
        "plt.scatter(dd.iloc[sample_idx, 1:137:2] ,dd.iloc[sample_idx, 2:137:2], s=3, c='r')"
      ]
    },
    {
      "cell_type": "markdown",
      "source": [
        "## Save to GDrive"
      ],
      "metadata": {
        "id": "HXyLHf7tKM72"
      }
    },
    {
      "cell_type": "code",
      "source": [
        "# !zip -r 300w_96.zip afw_cropped afw_cropped_aug ibug_cropped ibug_cropped_aug helen_train_cropped helen_train_cropped_aug helen_test_cropped helen_test_cropped_aug lfpw_train_cropped lfpw_train_cropped_aug lfpw_test_cropped lfpw_test_cropped_aug train.csv\n",
        "!zip -r 300w_f_96.zip afw_cropped afw_cropped_aug ibug_cropped helen_train_cropped helen_train_cropped_aug helen_test_cropped lfpw_train_cropped lfpw_train_cropped_aug lfpw_test_cropped train.csv test_ibug.csv test_helen.csv test_lfpw.csv"
      ],
      "metadata": {
        "id": "Ye-CubzLnQjS"
      },
      "execution_count": null,
      "outputs": []
    },
    {
      "cell_type": "code",
      "source": [
        "!mv 300w_f_96.zip /content/gdrive/MyDrive/300cw/"
      ],
      "metadata": {
        "id": "gGRhC1uLf1yK"
      },
      "execution_count": 18,
      "outputs": []
    },
    {
      "cell_type": "code",
      "source": [
        ""
      ],
      "metadata": {
        "id": "-9bck_0agE0K"
      },
      "execution_count": null,
      "outputs": []
    }
  ],
  "metadata": {
    "colab": {
      "collapsed_sections": [],
      "name": "300w.ipynb",
      "provenance": [],
      "authorship_tag": "ABX9TyPER3B1eds+rnmZPxWiYmtE",
      "include_colab_link": true
    },
    "kernelspec": {
      "display_name": "Python 3",
      "name": "python3"
    },
    "language_info": {
      "name": "python"
    }
  },
  "nbformat": 4,
  "nbformat_minor": 0
}