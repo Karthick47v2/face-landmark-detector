{
  "cells": [
    {
      "cell_type": "markdown",
      "metadata": {
        "colab_type": "text",
        "id": "view-in-github"
      },
      "source": [
        "<a href=\"https://colab.research.google.com/github/Karthick47v2/face-landmark-detector/blob/main/300w.ipynb\" target=\"_parent\"><img src=\"https://colab.research.google.com/assets/colab-badge.svg\" alt=\"Open In Colab\"/></a>\n"
      ]
    },
    {
      "cell_type": "markdown",
      "metadata": {
        "id": "nskvlHbdHMm_"
      },
      "source": [
        "## Import libs\n"
      ]
    },
    {
      "cell_type": "code",
      "execution_count": 1,
      "metadata": {
        "id": "CK_DR5pYp7xD"
      },
      "outputs": [],
      "source": [
        "import glob\n",
        "import pandas as pd\n",
        "import numpy as np\n",
        "import scipy.io\n",
        "import cv2\n",
        "import matplotlib.pyplot as plt\n",
        "from itertools import chain\n",
        "import os\n",
        "import imgaug.augmenters as iaa\n",
        "from imgaug.augmentables import Keypoint, KeypointsOnImage\n"
      ]
    },
    {
      "cell_type": "markdown",
      "metadata": {
        "id": "8Hln_u9UHS04"
      },
      "source": [
        "## Connect to GDrive\n"
      ]
    },
    {
      "cell_type": "code",
      "execution_count": null,
      "metadata": {
        "id": "KTqY1uQEniTC"
      },
      "outputs": [],
      "source": [
        "from google.colab import drive\n",
        "drive.mount('/content/gdrive')\n"
      ]
    },
    {
      "cell_type": "markdown",
      "metadata": {
        "id": "LexGBeWXHXBt"
      },
      "source": [
        "## Extract dataset\n"
      ]
    },
    {
      "cell_type": "code",
      "execution_count": null,
      "metadata": {
        "id": "E_UO9TMFnuNY"
      },
      "outputs": [],
      "source": [
        "# afw\n",
        "!mkdir afw\n",
        "!unzip / content/gdrive/MyDrive/300w/afw.zip - d afw/\n",
        "\n",
        "# # ibug\n",
        "!mkdir ibug\n",
        "!unzip / content/gdrive/MyDrive/300w/ibug.zip - d ibug/\n",
        "\n",
        "# # helen\n",
        "!mkdir helen\n",
        "!unzip / content/gdrive/MyDrive/300w/helen.zip - d helen/\n",
        "\n",
        "# # lfpw\n",
        "!mkdir lfpw\n",
        "!unzip / content/gdrive/MyDrive/300w/lfpw.zip - d lfpw/\n",
        "\n",
        "# bounding box region\n",
        "!mkdir bb\n",
        "!unzip / content/gdrive/MyDrive/300w/bounding_boxes.zip - d bb/\n"
      ]
    },
    {
      "cell_type": "markdown",
      "metadata": {
        "id": "5vhpMXyyHliq"
      },
      "source": [
        "## Read data\n"
      ]
    },
    {
      "cell_type": "code",
      "execution_count": 105,
      "metadata": {
        "id": "Gb9g1w2qvCun"
      },
      "outputs": [],
      "source": [
        "def read_mat(filename):\n",
        "    mat = scipy.io.loadmat(f\"bb/Bounding Boxes/{filename}.mat\")\n",
        "    if filename == 'bounding_boxes_ibug':\n",
        "        return mat['bounding_boxes'][0][0:135]\n",
        "    return mat['bounding_boxes'][0]\n",
        "\n",
        "\n",
        "def read_pts(filepath):\n",
        "    return np.loadtxt(filepath, comments=(\"version:\", \"n_points:\", \"{\", \"}\"))\n",
        "\n",
        "\n",
        "def get_lm(dataset, img_name):\n",
        "    return list(map(lambda x: read_pts(f\"{dataset}/{x.split('.')[0]}.pts\"), img_name))\n",
        "\n",
        "\n",
        "def mat_to_pd(filename, dataset):\n",
        "    mat = read_mat(filename)\n",
        "    path, name, bb = zip(*[(f\"/content/{dataset}/{x['imgName'][0][0][0]}\", x['imgName'][0][0][0],\n",
        "                            x['bb_ground_truth'][0][0][0]) for x in mat])\n",
        "\n",
        "    return pd.DataFrame({'path': path, 'name': name, 'bb': bb, 'lm': get_lm(dataset, name)})\n",
        "\n",
        "\n",
        "train_dataset = ['afw', 'helen/trainset', 'lfpw/trainset']\n",
        "test_dataset = ['ibug', 'helen/testset', 'lfpw/testset']\n",
        "train_bb = ['bounding_boxes_afw', 'bounding_boxes_helen_trainset',\n",
        "            'bounding_boxes_lfpw_trainset']\n",
        "test_bb = ['bounding_boxes_ibug', 'bounding_boxes_helen_testset',\n",
        "           'bounding_boxes_lfpw_testset']\n",
        "\n",
        "train_pd = []\n",
        "test_pd = []\n",
        "\n",
        "for tr_dataset, tr_bb, te_dataset, te_bb in zip(train_dataset, train_bb, test_dataset, test_bb):\n",
        "    train_pd.append(mat_to_pd(tr_bb, tr_dataset))\n",
        "    test_pd.append(mat_to_pd(te_bb, te_dataset))\n"
      ]
    },
    {
      "cell_type": "code",
      "execution_count": null,
      "metadata": {
        "id": "3ydA8kNx36xC"
      },
      "outputs": [],
      "source": [
        "train_pd[0].head()\n"
      ]
    },
    {
      "cell_type": "code",
      "execution_count": null,
      "metadata": {
        "id": "6kTmOdEpa23c"
      },
      "outputs": [],
      "source": [
        "test_pd[0].head()\n"
      ]
    },
    {
      "cell_type": "markdown",
      "metadata": {
        "id": "8ngo-Fzr2BAz"
      },
      "source": [
        "Length of AFW - 337\n",
        "\n",
        "Length of iBug - 135\n",
        "\n",
        "Length of helen (train+test) - 2000 + 330\n",
        "\n",
        "Length of LFPW (train+test - 881 + 224\n"
      ]
    },
    {
      "cell_type": "markdown",
      "metadata": {
        "id": "n8wUoHyUFVe2"
      },
      "source": [
        "### Visualize annotated data\n"
      ]
    },
    {
      "cell_type": "code",
      "execution_count": 28,
      "metadata": {
        "id": "l9l-4u59im65"
      },
      "outputs": [],
      "source": [
        "sample_idx = 2\n",
        "\n",
        "\n",
        "def plot_annotated_img(pd):\n",
        "    img = cv2.imread(pd['path'][sample_idx])\n",
        "    img = cv2.cvtColor(img, cv2.COLOR_BGR2RGB)\n",
        "    plt.imshow(img)\n",
        "    plt.scatter(pd['lm'][sample_idx][:, 0], pd['lm']\n",
        "                [sample_idx][:, 1], s=3, c='r')\n"
      ]
    },
    {
      "cell_type": "code",
      "execution_count": null,
      "metadata": {
        "id": "pAw0aLpz2a9X"
      },
      "outputs": [],
      "source": [
        "# AFW\n",
        "plot_annotated_img(train_pd[0])\n"
      ]
    },
    {
      "cell_type": "code",
      "execution_count": null,
      "metadata": {
        "id": "BMHPdNc8a8zR"
      },
      "outputs": [],
      "source": [
        "# iBUG\n",
        "plot_annotated_img(test_pd[0])\n"
      ]
    },
    {
      "cell_type": "code",
      "execution_count": null,
      "metadata": {
        "id": "jylcfc2ADn4G"
      },
      "outputs": [],
      "source": [
        "# HELEN\n",
        "plot_annotated_img(train_pd[1])\n"
      ]
    },
    {
      "cell_type": "code",
      "execution_count": null,
      "metadata": {
        "id": "VezAg0UwDtT1"
      },
      "outputs": [],
      "source": [
        "# LFPW\n",
        "plot_annotated_img(train_pd[2])\n"
      ]
    },
    {
      "cell_type": "markdown",
      "metadata": {
        "id": "T5vYooTcITeK"
      },
      "source": [
        "### Histogram of image dimensions (after crpped)\n"
      ]
    },
    {
      "cell_type": "code",
      "execution_count": 44,
      "metadata": {
        "id": "tVO6YjEokPY4"
      },
      "outputs": [],
      "source": [
        "def plot_cropped_hist(pd):\n",
        "    fig, ax = plt.subplots(1, 2)\n",
        "\n",
        "    x1, y1, x2, y2 = zip(*pd.loc[:, 'bb'])\n",
        "\n",
        "    ax[0].hist(list(map(lambda i, j: i - j, x2, x1)), bins=5)\n",
        "    ax[1].hist(list(map(lambda i, j: i - j, y2, y1)), bins=5)\n",
        "    plt.show()\n"
      ]
    },
    {
      "cell_type": "code",
      "execution_count": null,
      "metadata": {
        "id": "TTbY1di3ksht"
      },
      "outputs": [],
      "source": [
        "# AFW\n",
        "plot_cropped_hist(train_pd[0])\n"
      ]
    },
    {
      "cell_type": "code",
      "execution_count": null,
      "metadata": {
        "id": "Zoczn8t9mllj"
      },
      "outputs": [],
      "source": [
        "# HELEN\n",
        "plot_cropped_hist(train_pd[1])\n"
      ]
    },
    {
      "cell_type": "code",
      "execution_count": null,
      "metadata": {
        "id": "opGYmRlarjE4"
      },
      "outputs": [],
      "source": [
        "# LFPW\n",
        "plot_cropped_hist(train_pd[2])\n"
      ]
    },
    {
      "cell_type": "markdown",
      "metadata": {
        "id": "QU84EjzcI16T"
      },
      "source": [
        "## Data preprocessing\n"
      ]
    },
    {
      "cell_type": "markdown",
      "metadata": {
        "id": "XZDQD-Ogrzho"
      },
      "source": [
        "since most lie under 200 resize all to 192x192..\n"
      ]
    },
    {
      "cell_type": "markdown",
      "metadata": {
        "id": "4pBcnt_MFyt4"
      },
      "source": [
        "Crop image and adjust landmarks then save to **respective** folder\n"
      ]
    },
    {
      "cell_type": "code",
      "execution_count": 106,
      "metadata": {
        "id": "T4b_rSi4Fq2O"
      },
      "outputs": [],
      "source": [
        "img_size = 96\n",
        "\n",
        "train_lst = ['afw', 'helen_train', 'lfpw_train']\n",
        "test_lst = ['ibug', 'helen_test', 'lfpw_test']\n",
        "\n",
        "train_cropped_lst = [f\"{x}_cropped\" for x in train_lst]\n",
        "test_cropped_lst = [f\"{x}_cropped\" for x in test_lst]\n",
        "\n",
        "for dir in (train_cropped_lst + test_cropped_lst):\n",
        "    if not os.path.exists(dir):\n",
        "        os.mkdir(dir)\n",
        "\n",
        "\n",
        "def resize_w_pad(img, lm, req_size):\n",
        "    original_shape = (img.shape[1], img.shape[0])\n",
        "\n",
        "    ratio = float(max(req_size))/max(original_shape)\n",
        "    new_size = [int(x*ratio) for x in original_shape]\n",
        "\n",
        "    img = cv2.resize(img, tuple(new_size))\n",
        "    delta_w, delta_h = req_size[0] - new_size[0], req_size[1] - new_size[1]\n",
        "    top, bottom = delta_h//2, delta_h-(delta_h//2)\n",
        "    left, right = delta_w//2, delta_w-(delta_w//2)\n",
        "    lm *= [float(new_size[0]/original_shape[0]),\n",
        "           float(new_size[1]/original_shape[1])]\n",
        "    lm += [left, top]\n",
        "    lm = np.clip(lm, 0, req_size[0])\n",
        "    img = cv2.copyMakeBorder(img, top, bottom, left,\n",
        "                             right, cv2.BORDER_CONSTANT, value=(0, 0, 0))\n",
        "    return img, lm\n",
        "\n",
        "\n",
        "def preprocess_data(row, dataset):\n",
        "    un_img = cv2.imread(row['path'])\n",
        "    x1, y1, x2, y2 = row['bb']\n",
        "    # crop\n",
        "    c_img = un_img[int(y1-1):int(y2+1), int(x1-1):int(x2+1)]\n",
        "    c_lm = row['lm'] - [x1, y1]\n",
        "    # resize_with_padding\n",
        "    resized_img, resized_lm = resize_w_pad(c_img, c_lm, (img_size, img_size))\n",
        "\n",
        "    cv2.imwrite(f\"{dataset}_cropped/{row['name']}\", resized_img)\n",
        "    return resized_lm.ravel()\n",
        "\n",
        "\n",
        "def generate_df(df, name):\n",
        "    lms = list(map(lambda x: preprocess_data(x[1], name), df.iterrows()))\n",
        "\n",
        "    # dataframe for image generator\n",
        "    return pd.DataFrame(\n",
        "        {'path': f\"{name}_cropped/\" + df['name'].values,\n",
        "         **{f\"{i}\": [lm[i] for lm in lms] for i in range(136)}}\n",
        "    )\n",
        "\n",
        "\n",
        "train_df = []\n",
        "test_df = []\n",
        "\n",
        "for idx, (tr, te) in enumerate(zip(train_lst, test_lst)):\n",
        "    train_df.append(generate_df(train_pd[idx], tr))\n",
        "    test_df.append(generate_df(test_pd[idx], te))\n",
        "\n",
        "test_df = pd.concat(test_df, axis=0)\n",
        "test_df.to_csv('test.csv', index=False)\n"
      ]
    },
    {
      "cell_type": "markdown",
      "metadata": {
        "id": "DkSQlVyfJFA1"
      },
      "source": [
        "## Sample\n"
      ]
    },
    {
      "cell_type": "code",
      "execution_count": 65,
      "metadata": {
        "id": "2Nrt-WBayiKP"
      },
      "outputs": [],
      "source": [
        "sample_idx = 124\n",
        "\n",
        "\n",
        "def crop_(path, box, name, bb, lm):\n",
        "    un_img = cv2.imread(path)\n",
        "    x1, y1, x2, y2 = box\n",
        "\n",
        "    un_img = cv2.cvtColor(un_img, cv2.COLOR_BGR2RGB)\n",
        "\n",
        "    c_img = un_img[int(y1-1):int(y2+1), int(x1-1):int(x2+1)]\n",
        "    c_lm = lm - [x1, y1]\n",
        "    return resize_w_pad(c_img, c_lm, (img_size, img_size))\n",
        "\n",
        "\n",
        "def plot_cropped_img(pd):\n",
        "\n",
        "    cropped_img, lms = crop_(pd['path'][sample_idx], pd['bb'][sample_idx],\n",
        "                             pd['name'][sample_idx], pd['bb'][sample_idx], pd['lm'][sample_idx])\n",
        "    lms = lms.ravel()\n",
        "\n",
        "    plt.imshow(cropped_img)\n",
        "    plt.scatter(lms[0:136:2], lms[1:136:2], s=3, c='r')\n"
      ]
    },
    {
      "cell_type": "code",
      "execution_count": null,
      "metadata": {
        "id": "0jWfj7TryqwM"
      },
      "outputs": [],
      "source": [
        "# AFW\n",
        "plot_annotated_img(train_pd[0])\n"
      ]
    },
    {
      "cell_type": "code",
      "execution_count": null,
      "metadata": {
        "id": "AYKIAJ8_zUDo"
      },
      "outputs": [],
      "source": [
        "plot_cropped_img(train_pd[0])\n"
      ]
    },
    {
      "cell_type": "code",
      "execution_count": null,
      "metadata": {
        "id": "R2Kav0AAdP4T"
      },
      "outputs": [],
      "source": [
        "# iBug\n",
        "plot_annotated_img(test_pd[0])\n"
      ]
    },
    {
      "cell_type": "code",
      "execution_count": null,
      "metadata": {
        "id": "5Te9LR-cdZFV"
      },
      "outputs": [],
      "source": [
        "plot_cropped_img(test_pd[0])\n"
      ]
    },
    {
      "cell_type": "markdown",
      "metadata": {
        "id": "Auf_5xLkJN8K"
      },
      "source": [
        "## Data augmentation\n"
      ]
    },
    {
      "cell_type": "code",
      "execution_count": 107,
      "metadata": {
        "id": "xcHAja7xEdud"
      },
      "outputs": [],
      "source": [
        "# randomly picking 50 % of train data to create each augmentations\n",
        "\n",
        "random_df = []\n",
        "\n",
        "for df in train_df:\n",
        "    random_df.append(np.random.choice(\n",
        "        np.arange(df.shape[0]), size=int(df.shape[0] * 0.5), replace=False))\n",
        "\n",
        "aug_lst = [f\"{x}_aug\" for x in train_cropped_lst]\n",
        "\n",
        "for dir in aug_lst:\n",
        "    if not os.path.exists(dir):\n",
        "        os.mkdir(dir)\n"
      ]
    },
    {
      "cell_type": "markdown",
      "metadata": {
        "id": "--WZ026GYTBQ"
      },
      "source": [
        "### Rotate image\n"
      ]
    },
    {
      "cell_type": "code",
      "execution_count": 108,
      "metadata": {
        "id": "5id8wldaILNa"
      },
      "outputs": [],
      "source": [
        "def aug_rotate(df, dataset, angle):\n",
        "    lis = []\n",
        "    lin = []\n",
        "\n",
        "    seq = iaa.Sequential(\n",
        "        [\n",
        "            iaa.Affine(rotate=angle)\n",
        "        ]\n",
        "    )\n",
        "\n",
        "    for idx, row in df.iterrows():\n",
        "\n",
        "        xcoord = row[1:137:2].copy()\n",
        "        ycoord = row[2:137:2].copy()\n",
        "        un_img = cv2.imread(row['path'])\n",
        "        rotated = False\n",
        "        count = 1\n",
        "\n",
        "        while not rotated:\n",
        "            new_coord = []\n",
        "            l = []\n",
        "\n",
        "            for i in range(len(xcoord)):\n",
        "                new_coord.append(Keypoint(xcoord[i], ycoord[i]))\n",
        "\n",
        "            kps = KeypointsOnImage(new_coord, shape=(un_img.shape))\n",
        "            new_img, new_kps = seq(image=un_img, keypoints=kps)\n",
        "\n",
        "            for i in range(len(kps.keypoints)):\n",
        "                l.append(new_kps.keypoints[i].x)\n",
        "                l.append(new_kps.keypoints[i].y)\n",
        "\n",
        "            if(all(kp >= 0 and kp <= img_size for kp in l)):\n",
        "                cv2.imwrite(\n",
        "                    f\"{dataset}_cropped_aug/A_R{angle}_{idx}.png\", new_img)\n",
        "                lin.append(f\"{dataset}_cropped_aug/A_R{angle}_{idx}.png\")\n",
        "                lis.append(l)\n",
        "                rotated = True\n",
        "            else:\n",
        "                un_img = cv2.imread(row['path'])\n",
        "                lkp = row[1:137:1].copy().values.reshape(-1, 2)\n",
        "\n",
        "                un_img, lkp = resize_w_pad(\n",
        "                    un_img, lkp, (img_size - (count * 10), img_size - (count * 10)))\n",
        "                delta_w, delta_h = img_size - \\\n",
        "                    (img_size - (count * 10)), img_size - \\\n",
        "                    (img_size - (count * 10))\n",
        "\n",
        "                top, bottom = delta_h//2, delta_h-(delta_h//2)\n",
        "                left, right = delta_w//2, delta_w-(delta_w//2)\n",
        "                lkp += [left, top]\n",
        "                lkp = np.clip(lkp, top, img_size - top)\n",
        "                un_img = cv2.copyMakeBorder(\n",
        "                    un_img, top, bottom, left, right, cv2.BORDER_CONSTANT, value=(0, 0, 0))\n",
        "\n",
        "                lkp = lkp.reshape(136)\n",
        "                count += 1\n",
        "\n",
        "                xcoord = lkp[0:136:2].copy()\n",
        "                ycoord = lkp[1:136:2].copy()\n",
        "\n",
        "    return np.asarray(lin), np.asarray(lis)\n"
      ]
    },
    {
      "cell_type": "code",
      "execution_count": 109,
      "metadata": {
        "id": "N8DeLATe1LY7"
      },
      "outputs": [],
      "source": [
        "aug_df = []\n",
        "\n",
        "for df, random, name in zip(train_df, random_df, train_lst):\n",
        "    aug_lin = []\n",
        "    aug_lis = []\n",
        "    for ang in [-30, -20, -10, 10, 20, 30]:\n",
        "        lin, lis = aug_rotate(df.iloc[random], name, ang)\n",
        "        aug_lin.append(lin)\n",
        "        aug_lis.append(lis)\n",
        "\n",
        "    np_lin = np.concatenate(aug_lin, axis=0)\n",
        "    np_lis = np.concatenate(aug_lis, axis=0)\n",
        "\n",
        "    aug_df.append(pd.DataFrame(\n",
        "        {'path': np_lin, **{f\"{i}\": [lm[i] for lm in np_lis] for i in range(136)}}))\n"
      ]
    },
    {
      "cell_type": "code",
      "execution_count": 113,
      "metadata": {
        "id": "1bn9jUVL7YWP"
      },
      "outputs": [],
      "source": [
        "aug_train_df = pd.concat((aug_df + train_df), axis=0)\n",
        "aug_train_df.to_csv('train.csv', index=False)\n"
      ]
    },
    {
      "cell_type": "code",
      "execution_count": null,
      "metadata": {
        "id": "6CaGw7bPS8id"
      },
      "outputs": [],
      "source": [
        "dd = pd.read_csv('train.csv')\n",
        "sample_idx = 4050\n",
        "\n",
        "img = cv2.imread(dd['path'][sample_idx])\n",
        "img = cv2.cvtColor(img, cv2.COLOR_BGR2RGB)\n",
        "\n",
        "plt.imshow(img)\n",
        "plt.scatter(dd.iloc[sample_idx, 1:137:2],\n",
        "            dd.iloc[sample_idx, 2:137:2], s=3, c='r')\n"
      ]
    },
    {
      "cell_type": "markdown",
      "metadata": {
        "id": "HXyLHf7tKM72"
      },
      "source": [
        "## Save to GDrive\n"
      ]
    },
    {
      "cell_type": "code",
      "execution_count": null,
      "metadata": {
        "id": "Ye-CubzLnQjS"
      },
      "outputs": [],
      "source": [
        "!zip - r 300w_f_96.zip afw_cropped afw_cropped_aug ibug_cropped helen_train_cropped helen_train_cropped_aug helen_test_cropped lfpw_train_cropped lfpw_train_cropped_aug lfpw_test_cropped train.csv test.csv\n"
      ]
    },
    {
      "cell_type": "code",
      "execution_count": null,
      "metadata": {
        "id": "gGRhC1uLf1yK"
      },
      "outputs": [],
      "source": [
        "!mv 300w_f_96.zip / content/gdrive/MyDrive/300cw/\n"
      ]
    }
  ],
  "metadata": {
    "colab": {
      "authorship_tag": "ABX9TyMqhky/qG1JyVoEChdWvp58",
      "collapsed_sections": [],
      "include_colab_link": true,
      "name": "300w.ipynb",
      "provenance": []
    },
    "kernelspec": {
      "display_name": "Python 3",
      "name": "python3"
    },
    "language_info": {
      "name": "python"
    }
  },
  "nbformat": 4,
  "nbformat_minor": 0
}
